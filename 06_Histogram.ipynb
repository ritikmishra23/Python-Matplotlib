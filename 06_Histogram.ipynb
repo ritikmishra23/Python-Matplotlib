{
 "cells": [
  {
   "cell_type": "markdown",
   "id": "842ce3c5",
   "metadata": {},
   "source": [
    "In Matplotlib, we use the hist() function to create histograms.\n",
    "\n",
    "The hist() function will use an array of numbers to create a histogram, the array is sent into the function as an argument."
   ]
  },
  {
   "cell_type": "code",
   "execution_count": 1,
   "id": "955d6c4e",
   "metadata": {},
   "outputs": [
    {
     "data": {
      "text/plain": [
       "(array([13.,  0.,  1.,  1.,  0.,  0.,  1.,  0.,  1.,  1.]),\n",
       " array([  1. ,  10.9,  20.8,  30.7,  40.6,  50.5,  60.4,  70.3,  80.2,\n",
       "         90.1, 100. ]),\n",
       " <BarContainer object of 10 artists>)"
      ]
     },
     "execution_count": 1,
     "metadata": {},
     "output_type": "execute_result"
    },
    {
     "data": {
      "image/png": "[encoded data removed]",
      "text/plain": [
       "<Figure size 640x480 with 1 Axes>"
      ]
     },
     "metadata": {},
     "output_type": "display_data"
    }
   ],
   "source": [
    "import matplotlib.pyplot as plt\n",
    "import numpy as np\n",
    "arr=np.array([1,2,3,4,5,6,7,8,9,10,35,67,24,89,100,1,2,3])\n",
    "plt.hist(arr)"
   ]
  },
  {
   "cell_type": "code",
   "execution_count": null,
   "id": "e15d3b95",
   "metadata": {},
   "outputs": [],
   "source": []
  }
 ],
 "metadata": {
  "kernelspec": {
   "display_name": ".venv",
   "language": "python",
   "name": "python3"
  },
  "language_info": {
   "codemirror_mode": {
    "name": "ipython",
    "version": 3
   },
   "file_extension": ".py",
   "mimetype": "text/x-python",
   "name": "python",
   "nbconvert_exporter": "python",
   "pygments_lexer": "ipython3",
   "version": "3.10.4"
  }
 },
 "nbformat": 4,
 "nbformat_minor": 5
}
